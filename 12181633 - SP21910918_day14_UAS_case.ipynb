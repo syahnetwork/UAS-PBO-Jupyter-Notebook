{
 "cells": [
  {
   "cell_type": "code",
   "execution_count": null,
   "metadata": {},
   "outputs": [],
   "source": [
    "// 1. Buatlah aplikasi dalam pemrograman Java untuk menyatukan data (combine) dari dua file\n",
    "// dengan format berbeda yang terlampir (attachment terkompres) dalam sebuah dataframe."
   ]
  },
  {
   "cell_type": "code",
   "execution_count": 2,
   "metadata": {},
   "outputs": [
    {
     "data": {
      "application/vnd.jupyter.widget-view+json": {
       "model_id": "",
       "version_major": 2,
       "version_minor": 0
      },
      "method": "display_data"
     },
     "metadata": {},
     "output_type": "display_data"
    },
    {
     "data": {
      "application/vnd.jupyter.widget-view+json": {
       "model_id": "5c500cd6-7bcf-44ec-87b6-541edef0aa9d",
       "version_major": 2,
       "version_minor": 0
      },
      "method": "display_data"
     },
     "metadata": {},
     "output_type": "display_data"
    }
   ],
   "source": [
    "//Load Library\n",
    "%%classpath add mvn\n",
    "tech.tablesaw tablesaw-beakerx 0.35.0\n",
    "com.jimmoores quandl-tablesaw 2.0.0\n",
    "com.github.haifengl smile-core 1.5.2\n",
    "tech.tablesaw tablesaw-excel 0.35.0\n",
    "tech.tablesaw tablesaw-json 0.35.0\n",
    "org.xerial sqlite-jdbc 3.28.0\n",
    "org.jsoup jsoup 1.11.3"
   ]
  },
  {
   "cell_type": "code",
   "execution_count": 3,
   "metadata": {},
   "outputs": [
    {
     "data": {
      "text/plain": [
       "null"
      ]
     },
     "execution_count": 3,
     "metadata": {},
     "output_type": "execute_result"
    }
   ],
   "source": [
    "%import static tech.tablesaw.aggregate.AggregateFunctions.*\n",
    "%import tech.tablesaw.api.*\n",
    "%import tech.tablesaw.columns.*\n",
    "%import smile.clustering.*\n",
    "%import smile.regression.*\n",
    "\n",
    "// display Tablesaw tables with BeakerX table display widget\n",
    "tech.tablesaw.beakerx.TablesawDisplayer.register();"
   ]
  },
  {
   "cell_type": "code",
   "execution_count": 19,
   "metadata": {
    "scrolled": true
   },
   "outputs": [
    {
     "name": "stdout",
     "output_type": "stream",
     "text": [
      "                                                                  12181633.csv                                                                   \n",
      " _id  |  idx  |   vervar    |                               var                               |     turvar     |  tahun  |  turtahun  |  nilai  |\n",
      "-------------------------------------------------------------------------------------------------------------------------------------------------\n",
      "   1  |    0  |  Kalijambe  |  Banyaknya Ternak Unggas Menurut Kecamatan di Kabupaten Sragen  |       Kelinci  |   2011  |     Tahun  |     83  |\n",
      "   2  |    1  |  Kalijambe  |  Banyaknya Ternak Unggas Menurut Kecamatan di Kabupaten Sragen  |       Kelinci  |   2012  |     Tahun  |     85  |\n",
      "   3  |    2  |  Kalijambe  |  Banyaknya Ternak Unggas Menurut Kecamatan di Kabupaten Sragen  |       Kelinci  |   2013  |     Tahun  |     85  |\n",
      "   4  |    3  |  Kalijambe  |  Banyaknya Ternak Unggas Menurut Kecamatan di Kabupaten Sragen  |       Kelinci  |   2014  |     Tahun  |     85  |\n",
      "   5  |    4  |  Kalijambe  |  Banyaknya Ternak Unggas Menurut Kecamatan di Kabupaten Sragen  |       Kelinci  |   2015  |     Tahun  |     85  |\n",
      "   6  |    5  |  Kalijambe  |  Banyaknya Ternak Unggas Menurut Kecamatan di Kabupaten Sragen  |  Ayam Kampung  |   2011  |     Tahun  |  38739  |\n",
      "   7  |    6  |  Kalijambe  |  Banyaknya Ternak Unggas Menurut Kecamatan di Kabupaten Sragen  |  Ayam Kampung  |   2012  |     Tahun  |  38753  |\n",
      "   8  |    7  |  Kalijambe  |  Banyaknya Ternak Unggas Menurut Kecamatan di Kabupaten Sragen  |  Ayam Kampung  |   2013  |     Tahun  |  39862  |\n",
      "   9  |    8  |  Kalijambe  |  Banyaknya Ternak Unggas Menurut Kecamatan di Kabupaten Sragen  |  Ayam Kampung  |   2014  |     Tahun  |  39862  |\n",
      "  10  |    9  |  Kalijambe  |  Banyaknya Ternak Unggas Menurut Kecamatan di Kabupaten Sragen  |  Ayam Kampung  |   2015  |     Tahun  |  39864  |\n",
      " ...  |  ...  |        ...  |                                                            ...  |           ...  |    ...  |       ...  |    ...  |\n",
      " 726  |  725  |  Kabupaten  |  Banyaknya Ternak Unggas Menurut Kecamatan di Kabupaten Sragen  |         Angsa  |   2011  |     Tahun  |   1744  |\n",
      " 727  |  726  |  Kabupaten  |  Banyaknya Ternak Unggas Menurut Kecamatan di Kabupaten Sragen  |         Angsa  |   2012  |     Tahun  |   2871  |\n",
      " 728  |  727  |  Kabupaten  |  Banyaknya Ternak Unggas Menurut Kecamatan di Kabupaten Sragen  |         Angsa  |   2013  |     Tahun  |   1797  |\n",
      " 729  |  728  |  Kabupaten  |  Banyaknya Ternak Unggas Menurut Kecamatan di Kabupaten Sragen  |         Angsa  |   2014  |     Tahun  |   1835  |\n",
      " 730  |  729  |  Kabupaten  |  Banyaknya Ternak Unggas Menurut Kecamatan di Kabupaten Sragen  |         Angsa  |   2015  |     Tahun  |   1895  |\n",
      " 731  |  730  |  Kabupaten  |  Banyaknya Ternak Unggas Menurut Kecamatan di Kabupaten Sragen  |         Puyuh  |   2011  |     Tahun  |  46348  |\n",
      " 732  |  731  |  Kabupaten  |  Banyaknya Ternak Unggas Menurut Kecamatan di Kabupaten Sragen  |         Puyuh  |   2012  |     Tahun  |  46430  |\n",
      " 733  |  732  |  Kabupaten  |  Banyaknya Ternak Unggas Menurut Kecamatan di Kabupaten Sragen  |         Puyuh  |   2013  |     Tahun  |  47361  |\n",
      " 734  |  733  |  Kabupaten  |  Banyaknya Ternak Unggas Menurut Kecamatan di Kabupaten Sragen  |         Puyuh  |   2014  |     Tahun  |  47397  |\n",
      " 735  |  734  |  Kabupaten  |  Banyaknya Ternak Unggas Menurut Kecamatan di Kabupaten Sragen  |         Puyuh  |   2015  |     Tahun  |  47437  |\n",
      "                        12181633.csv summary                         \n",
      "   Mean [nilai]     |  Max [nilai]  |  Min [nilai]  |  Sum [nilai]  |\n",
      "---------------------------------------------------------------------\n",
      " 66199.36326530637  |      4257167  |            0  |     48656532  |"
     ]
    },
    {
     "data": {
      "text/plain": [
       "null"
      ]
     },
     "execution_count": 19,
     "metadata": {},
     "output_type": "execute_result"
    }
   ],
   "source": [
    "import static tech.tablesaw.aggregate.AggregateFunctions.*;\n",
    "\n",
    "import tech.tablesaw.api.*;\n",
    "import tech.tablesaw.io.xlsx.*;\n",
    "\n",
    "// display Tablesaw tables with BeakerX table display widget\n",
    "tech.tablesaw.beakerx.TablesawDisplayer.register();\n",
    "\n",
    "//init objek Excel reader\n",
    "XlsxReader reader = new XlsxReader();\n",
    "\n",
    "//init objek CSV reader\n",
    "Table data2 = Table.read().csv(\"12181633/12181633.csv\");\n",
    "\n",
    "//membaca file data1.xlsx\n",
    "XlsxReadOptions file1 = XlsxReadOptions.builder(\"12181633/12181633.xlsx\").build();\n",
    "\n",
    "//memasukan data file data1.xlsx ke dataframe data1\n",
    "Table data1 = reader.read(file1);\n",
    "\n",
    "//menggabungkan data pada dataframedata1 dan dataframedata2 untuk disimpan di df datagabung\n",
    "Table datagabung = data2.append(data1);\n",
    "\n",
    "//menampilkan gabungan data yang ada di dataframe datagabung\n",
    "System.out.println(datagabung.print()); \n",
    "\n",
    "//2. Lakukan analisis dari dataframe soal nomor 1, kemudian lakukan perhitungan statistik\n",
    "//sederhana untuk mencari nilai rata-rata, data terbesar dan terkecil, total nilai dan lain – lain.\n",
    "\n",
    "//menampilkan summary data yang ada di dataframe datagabung kolom \"grade\"\n",
    "System.out.print(datagabung.summarize(\"nilai\", mean, max, min,sum).apply());"
   ]
  },
  {
   "cell_type": "code",
   "execution_count": null,
   "metadata": {},
   "outputs": [],
   "source": [
    "//3. Kemudian buatlah kesimpulan deskriptif dari visualisasi dan hasil analisis soal nomor 2.\n",
    "\n",
    "a. Rata-rata dari penggabungan data banyaknya ternak di kabupaten sragen yaitu 66199\n",
    "    dengan pembulatan kebawah per daerah\n",
    "b. Unggas terbanyak didapat oleh kabupaten sragen pada tahun 2015 dengan total unggas 4257167\n",
    "c. Total unggas dari tahun 2011-2015 di kabupaten sragen yaitu 48656532"
   ]
  },
  {
   "cell_type": "code",
   "execution_count": null,
   "metadata": {},
   "outputs": [],
   "source": [
    "//4. Implementasikan rancangan pada gambar dalam pemrograman berorientasi objek dengan bahasa\n",
    "//pemrograman Java.\n",
    "\n",
    "//import library yg diperlukan\n",
    "import static tech.tablesaw.aggregate.AggregateFunctions.*;\n",
    "\n",
    "import tech.tablesaw.api.*;\n",
    "import tech.tablesaw.io.xlsx.*;\n",
    "\n",
    "// display Tablesaw tables with BeakerX table display widget\n",
    "tech.tablesaw.beakerx.TablesawDisplayer.register();\n",
    "\n",
    "//init objek Excel reader\n",
    "XlsxReader reader = new XlsxReader();\n",
    "\n",
    "//membaca data source langsung dari file csv tidak memerlukan library\n",
    "Table data2 = Table.read().csv(\"12181633/12181633.csv\");\n",
    "\n",
    "//membaca file data1.xlsx membutuhkan library XlsxReader\n",
    "XlsxReadOptions file1 = XlsxReadOptions.builder(\"12181633/12181633.xlsx\").build();\n",
    "\n",
    "//memasukan data file data1.xlsx ke dataframe data1, setelah file data dibaca maka\n",
    "//harus harus dibuat objek untuk menyimpan data hasil bacaan\n",
    "Table data1 = reader.read(file1);\n",
    "\n",
    "//menggabungkan data pada dataframedata1 dan dataframedata2 untuk disimpan di df datagabung\n",
    "//setelah file xlsx ditampung dalam sebuah objek dan file csv berhasil diread\n",
    "//langkah selanjutnya menggabungkan kedua dataframe tersebut menjadi 1 dataframe\n",
    "Table datagabung = data2.append(data1);"
   ]
  }
 ],
 "metadata": {
  "kernelspec": {
   "display_name": "Java",
   "language": "java",
   "name": "java"
  },
  "language_info": {
   "codemirror_mode": "text/x-java",
   "file_extension": ".java",
   "mimetype": "",
   "name": "Java",
   "nbconverter_exporter": "",
   "version": "1.8.0_121"
  },
  "toc": {
   "base_numbering": 1,
   "nav_menu": {},
   "number_sections": false,
   "sideBar": false,
   "skip_h1_title": false,
   "title_cell": "Table of Contents",
   "title_sidebar": "Contents",
   "toc_cell": false,
   "toc_position": {},
   "toc_section_display": false,
   "toc_window_display": false
  }
 },
 "nbformat": 4,
 "nbformat_minor": 2
}
